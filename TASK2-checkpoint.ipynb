{
 "cells": [
  {
   "cell_type": "code",
   "execution_count": 1,
   "id": "0d9a2598-f1d5-456b-b05a-2c3bbcf4ecf7",
   "metadata": {},
   "outputs": [],
   "source": [
    "import requests\n",
    "from bs4 import BeautifulSoup\n",
    "from urllib.parse import urljoin, urlparse\n",
    "from colorama import Fore, Style\n"
   ]
  },
  {
   "cell_type": "code",
   "execution_count": 2,
   "id": "019eb4af-06e0-4d53-9280-c97a98291911",
   "metadata": {},
   "outputs": [],
   "source": [
    "def get_all_forms(url):\n",
    "    \"\"\"Extracts all forms from the given URL.\"\"\"\n",
    "    soup = BeautifulSoup(requests.get(url).content, \"html.parser\")\n",
    "    return soup.find_all(\"form\")\n"
   ]
  },
  {
   "cell_type": "code",
   "execution_count": 3,
   "id": "ef197f15-97fc-483c-ba92-c1b5692143f1",
   "metadata": {},
   "outputs": [],
   "source": [
    "def get_form_details(form):\n",
    "    \"\"\"Extracts details from a form tag.\"\"\"\n",
    "    details = {}\n",
    "    action = form.attrs.get(\"action\")\n",
    "    method = form.attrs.get(\"method\", \"get\").lower()\n",
    "    inputs = []\n",
    "    for input_tag in form.find_all([\"input\", \"textarea\"]):\n",
    "        input_type = input_tag.attrs.get(\"type\", \"text\")\n",
    "        input_name = input_tag.attrs.get(\"name\")\n",
    "        inputs.append({\"type\": input_type, \"name\": input_name})\n",
    "    details[\"action\"] = action\n",
    "    details[\"method\"] = method\n",
    "    details[\"inputs\"] = inputs\n",
    "    return details\n"
   ]
  },
  {
   "cell_type": "code",
   "execution_count": 4,
   "id": "b14a2201-641b-4bcb-a5bc-87bc9b7aeffb",
   "metadata": {},
   "outputs": [],
   "source": [
    "def is_vulnerable_sqli(response):\n",
    "    \"\"\"Checks if the response contains common SQL error messages.\"\"\"\n",
    "    errors = [\n",
    "        \"you have an error in your sql syntax\",\n",
    "        \"warning: mysql\",\n",
    "        \"unclosed quotation mark after the character string\",\n",
    "        \"quoted string not properly terminated\",\n",
    "    ]\n",
    "    for error in errors:\n",
    "        if error in response.content.decode().lower():\n",
    "            return True\n",
    "    return False\n"
   ]
  },
  {
   "cell_type": "code",
   "execution_count": 5,
   "id": "f5c0fb1e-f8a1-458b-a56b-3fcd083a356d",
   "metadata": {},
   "outputs": [],
   "source": [
    "def scan_sql_injection(url):\n",
    "    payloads = [\"' OR 1=1 --\", \"' OR 'a'='a\"]\n",
    "    forms = get_all_forms(url)\n",
    "    for form in forms:\n",
    "        form_details = get_form_details(form)\n",
    "        for payload in payloads:\n",
    "            data = {}\n",
    "            for input_tag in form_details[\"inputs\"]:\n",
    "                if input_tag[\"type\"] == \"text\" or input_tag[\"type\"] == \"search\":\n",
    "                    data[input_tag[\"name\"]] = payload\n",
    "                else:\n",
    "                    data[input_tag[\"name\"]] = \"test\"\n",
    "            target_url = urljoin(url, form_details[\"action\"])\n",
    "            if form_details[\"method\"] == \"post\":\n",
    "                res = requests.post(target_url, data=data)\n",
    "            else:\n",
    "                res = requests.get(target_url, params=data)\n",
    "            if is_vulnerable_sqli(res):\n",
    "                print(Fore.RED + f\"[!] SQL Injection vulnerability found in {target_url}\" + Style.RESET_ALL)\n",
    "                break\n"
   ]
  },
  {
   "cell_type": "code",
   "execution_count": 6,
   "id": "3222e447-c992-438c-a264-ad1beb7cce7a",
   "metadata": {},
   "outputs": [],
   "source": [
    "def scan_xss(url):\n",
    "    xss_payload = \"<script>alert('XSS')</script>\"\n",
    "    forms = get_all_forms(url)\n",
    "    for form in forms:\n",
    "        form_details = get_form_details(form)\n",
    "        data = {}\n",
    "        for input_tag in form_details[\"inputs\"]:\n",
    "            if input_tag[\"type\"] == \"text\" or input_tag[\"type\"] == \"search\":\n",
    "                data[input_tag[\"name\"]] = xss_payload\n",
    "            else:\n",
    "                data[input_tag[\"name\"]] = \"test\"\n",
    "        target_url = urljoin(url, form_details[\"action\"])\n",
    "        if form_details[\"method\"] == \"post\":\n",
    "            res = requests.post(target_url, data=data)\n",
    "        else:\n",
    "            res = requests.get(target_url, params=data)\n",
    "        if xss_payload in res.text:\n",
    "            print(Fore.RED + f\"[!] XSS vulnerability found in {target_url}\" + Style.RESET_ALL)\n"
   ]
  },
  {
   "cell_type": "code",
   "execution_count": 7,
   "id": "b4adb955-41a4-43de-90c8-89566e8dcc59",
   "metadata": {},
   "outputs": [],
   "source": [
    "def crawl_website(start_url, max_pages=20):\n",
    "    visited = set()\n",
    "    to_visit = [start_url]\n",
    "    \n",
    "    while to_visit and len(visited) < max_pages:\n",
    "        url = to_visit.pop(0)\n",
    "        if url in visited:\n",
    "            continue\n",
    "        visited.add(url)\n",
    "        \n",
    "        print(Fore.YELLOW + f\"\\n[+] Scanning {url}\" + Style.RESET_ALL)\n",
    "        try:\n",
    "            run_single_scan(url)\n",
    "        except Exception as e:\n",
    "            print(Fore.RED + f\"Error scanning {url}: {e}\" + Style.RESET_ALL)\n",
    "        \n",
    "        try:\n",
    "            soup = BeautifulSoup(requests.get(url).content, \"html.parser\")\n",
    "            for link in soup.find_all(\"a\", href=True):\n",
    "                full_url = urljoin(url, link[\"href\"])\n",
    "                if urlparse(full_url).netloc == urlparse(start_url).netloc:\n",
    "                    if full_url not in visited:\n",
    "                        to_visit.append(full_url)\n",
    "        except:\n",
    "            pass\n"
   ]
  },
  {
   "cell_type": "code",
   "execution_count": 8,
   "id": "36dad263-1cd7-4c8e-b7d6-6b4cbace140b",
   "metadata": {},
   "outputs": [],
   "source": [
    "def run_single_scan(url):\n",
    "    print(Fore.CYAN + \"[*] Scanning for SQL Injection...\" + Style.RESET_ALL)\n",
    "    scan_sql_injection(url)\n",
    "    print(Fore.CYAN + \"[*] Scanning for XSS...\" + Style.RESET_ALL)\n",
    "    scan_xss(url)\n"
   ]
  },
  {
   "cell_type": "code",
   "execution_count": 12,
   "id": "938b00b8-e89d-4288-ab8e-d12bcafc3291",
   "metadata": {},
   "outputs": [
    {
     "name": "stdin",
     "output_type": "stream",
     "text": [
      "Enter the website URL to scan:  http://testphp.vulnweb.com\n"
     ]
    },
    {
     "name": "stdout",
     "output_type": "stream",
     "text": [
      "\u001b[33m\n",
      "[+] Scanning http://testphp.vulnweb.com\u001b[0m\n",
      "\u001b[36m[*] Scanning for SQL Injection...\u001b[0m\n",
      "\u001b[36m[*] Scanning for XSS...\u001b[0m\n",
      "\u001b[31m[!] XSS vulnerability found in http://testphp.vulnweb.com/search.php?test=query\u001b[0m\n",
      "\u001b[33m\n",
      "[+] Scanning http://testphp.vulnweb.com/index.php\u001b[0m\n",
      "\u001b[36m[*] Scanning for SQL Injection...\u001b[0m\n",
      "\u001b[36m[*] Scanning for XSS...\u001b[0m\n",
      "\u001b[31m[!] XSS vulnerability found in http://testphp.vulnweb.com/search.php?test=query\u001b[0m\n",
      "\n",
      "Scanning for vulnerabilities...\n",
      "\n",
      "\u001b[31m[!] XSS vulnerability found in http://testphp.vulnweb.com/search.php?test=query\u001b[0m\n",
      "[-] No XSS vulnerabilities found.\n",
      "[-] No SQL injection vulnerabilities found.\n"
     ]
    }
   ],
   "source": [
    "start_url = input(\"Enter the website URL to scan: \")\n",
    "crawl_website(start_url, max_pages=2)\n",
    "\n",
    "# After crawling\n",
    "print(\"\\nScanning for vulnerabilities...\\n\")\n",
    "\n",
    "# Scan for XSS\n",
    "xss_vulnerabilities = scan_xss(start_url)\n",
    "if xss_vulnerabilities:\n",
    "    print(\"[+] XSS Vulnerabilities Found:\")\n",
    "    for vuln in xss_vulnerabilities:\n",
    "        print(\"   -\", vuln)\n",
    "else:\n",
    "    print(\"[-] No XSS vulnerabilities found.\")\n",
    "\n",
    "# Scan for SQL Injection\n",
    "sql_vulnerabilities = scan_sql_injection(start_url)\n",
    "if sql_vulnerabilities:\n",
    "    print(\"[+] SQL Injection Vulnerabilities Found:\")\n",
    "    for vuln in sql_vulnerabilities:\n",
    "        print(\"   -\", vuln)\n",
    "else:\n",
    "    print(\"[-] No SQL injection vulnerabilities found.\")\n"
   ]
  },
  {
   "cell_type": "code",
   "execution_count": null,
   "id": "3f1e172d-9865-4aad-9cf4-60fe8e40f7af",
   "metadata": {},
   "outputs": [],
   "source": [
    "http://testphp.vulnweb.com\n"
   ]
  }
 ],
 "metadata": {
  "kernelspec": {
   "display_name": "Python 3 (ipykernel)",
   "language": "python",
   "name": "python3"
  },
  "language_info": {
   "codemirror_mode": {
    "name": "ipython",
    "version": 3
   },
   "file_extension": ".py",
   "mimetype": "text/x-python",
   "name": "python",
   "nbconvert_exporter": "python",
   "pygments_lexer": "ipython3",
   "version": "3.13.3"
  }
 },
 "nbformat": 4,
 "nbformat_minor": 5
}
